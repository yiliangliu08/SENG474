{
 "cells": [
  {
   "cell_type": "markdown",
   "metadata": {
    "ExecuteTime": {
     "end_time": "2019-11-20T00:59:00.369296Z",
     "start_time": "2019-11-20T00:59:00.362226Z"
    }
   },
   "source": [
    "## OverView\n",
    "### overview\n",
    "Successful models will incorporate some analysis of the impact of including different keywords or phrases, as well as making use of the structured data fields like location, hours or company.  Some of the structured data shown (such as category) is 'inferred' by Adzuna's own processes, based on where an ad came from or its contents, and may not be \"correct\" but is representative of the real data.\n",
    "\n",
    "You will be provided with a training data set on which to build your model, which will include all variables including salary.  A second data set will be used to provide feedback on the public leaderboard.  After approximately 6 weeks, Kaggle will release a final data set that does not include the salary field to participants, who will then be required to submit their salary predictions against each job for evaluation.\n",
    "### Job Data\n",
    "The main dataset consists of a large number of rows representing individual job ads, and a series of fields about each job ad.  These fields are as follows:\n",
    "\n",
    "Id - A unique identifier for each job ad\n",
    "\n",
    "Title - A freetext field supplied to us by the job advertiser as the Title of the job ad.  Normally this is a summary of the job title or role.\n",
    "\n",
    "FullDescription - The full text of the job ad as provided by the job advertiser.  Where you see ***s, we have stripped values from the description in order to ensure that no salary information appears within the descriptions.  There may be some collateral damage here where we have also removed other numerics.\n",
    "\n",
    "LocationRaw - The freetext location as provided by the job advertiser.\n",
    "\n",
    "LocationNormalized - Adzuna's normalised location from within our own location tree, interpreted by us based on the raw location.  Our normaliser is not perfect!\n",
    "\n",
    "ContractType - full_time or part_time, interpreted by Adzuna from description or a specific additional field we received from the advertiser.\n",
    "\n",
    "ContractTime - permanent or contract, interpreted by Adzuna from description or a specific additional field we received from the advertiser.\n",
    "\n",
    "Company - the name of the employer as supplied to us by the job advertiser.\n",
    "\n",
    "Category - which of 30 standard job categories this ad fits into, inferred in a very messy way based on the source the ad came from.  We know there is a lot of noise and error in this field.\n",
    "\n",
    "SalaryRaw - the freetext salary field we received in the job advert from the advertiser.\n",
    "\n",
    "SalaryNormalised - the annualised salary interpreted by Adzuna from the raw salary.  Note that this is always a single value based on the midpoint of any range found in the raw salary.  This is the value we are trying to predict.\n",
    "\n",
    "SourceName - the name of the website or advertiser from whom we received the job advert. \n",
    "\n",
    "All of the data is real, live data used in job ads so is clearly subject to lots of real world noise, including but not limited to: ads that are not UK based, salaries that are incorrectly stated, fields that are incorrectly normalised and duplicate adverts."
   ]
  },
  {
   "cell_type": "markdown",
   "metadata": {},
   "source": [
    "### Target And How To Do\n",
    "The goal of this study is based on historical recruitment data and then predicting the salary for each row of data in each test set. The standard for measuring the quality of a model is MAE.   \n",
    "FullDescription is a paragraph that describes the position. Subsequent use, n-gram, tfidf build features. For feature Title and FullDescription. You can divide the words first, then count the frequency of occurrence of each word (or phrase, n-gram, n take 2), remove the low-frequency words (groups), and then use the resulting vocabulary as a feature vector (or substitute tfidf) Add to each sample (feature dimensions are large, but sparse).   \n",
    "After these features are established, modeling can begin. Our goal is to predict the salary provided by a job, and the salary forecast can be viewed as a regression problem, so it can be modeled using linear regression, ridge regression, and neural networks."
   ]
  },
  {
   "cell_type": "code",
   "execution_count": 1,
   "metadata": {},
   "outputs": [],
   "source": [
    "#----------------------------------------------\n",
    "# Import Libraries\n",
    "#----------------------------------------------\n",
    "import pandas as pd\n",
    "import numpy as np\n",
    "import os\n",
    "\n",
    "from sklearn.model_selection import train_test_split\n",
    "\n",
    "from sklearn.feature_extraction.text import CountVectorizer\n",
    "from sklearn import linear_model\n",
    "\n",
    "from sklearn.feature_selection import RFE\n",
    "from sklearn.ensemble import GradientBoostingRegressor\n",
    "from sklearn.metrics import make_scorer, r2_score, mean_squared_error, auc, mean_absolute_error\n",
    "from sklearn.model_selection import GridSearchCV, KFold\n",
    "# from sklearn.cross_validation import KFold # old version\n",
    "\n",
    "from sklearn.neural_network import MLPRegressor\n",
    "import matplotlib.pyplot as plt\n",
    "import warnings\n",
    "warnings.filterwarnings(\"ignore\")\n",
    "\n",
    "cur_dir = os.getcwd()"
   ]
  },
  {
   "cell_type": "markdown",
   "metadata": {},
   "source": [
    "## Data Cleaning and Data Preparation"
   ]
  },
  {
   "cell_type": "markdown",
   "metadata": {},
   "source": [
    "### Cleaning NaN "
   ]
  },
  {
   "cell_type": "code",
   "execution_count": 2,
   "metadata": {},
   "outputs": [
    {
     "data": {
      "text/plain": [
       "Id                        0\n",
       "Title                     1\n",
       "FullDescription           0\n",
       "LocationRaw               0\n",
       "LocationNormalized        0\n",
       "ContractType          10780\n",
       "ContractTime           8893\n",
       "Company                6111\n",
       "Category                  0\n",
       "SalaryRaw                 0\n",
       "SalaryNormalized          0\n",
       "SourceName                0\n",
       "dtype: int64"
      ]
     },
     "execution_count": 2,
     "metadata": {},
     "output_type": "execute_result"
    }
   ],
   "source": [
    "# Using a small subset of original data\n",
    "# full data can be found on Kaggle : https://www.kaggle.com/c/job-salary-prediction\n",
    "Salaries = pd.read_csv(\"Salary_Train_sample.csv\", encoding = \"ISO-8859-1\")\n",
    "# See how many null values are in each column\n",
    "Salaries.isnull().sum(axis=0)"
   ]
  },
  {
   "cell_type": "code",
   "execution_count": 3,
   "metadata": {},
   "outputs": [
    {
     "data": {
      "text/html": [
       "<div>\n",
       "<style scoped>\n",
       "    .dataframe tbody tr th:only-of-type {\n",
       "        vertical-align: middle;\n",
       "    }\n",
       "\n",
       "    .dataframe tbody tr th {\n",
       "        vertical-align: top;\n",
       "    }\n",
       "\n",
       "    .dataframe thead th {\n",
       "        text-align: right;\n",
       "    }\n",
       "</style>\n",
       "<table border=\"1\" class=\"dataframe\">\n",
       "  <thead>\n",
       "    <tr style=\"text-align: right;\">\n",
       "      <th></th>\n",
       "      <th>Id</th>\n",
       "      <th>Title</th>\n",
       "      <th>FullDescription</th>\n",
       "      <th>LocationRaw</th>\n",
       "      <th>LocationNormalized</th>\n",
       "      <th>ContractType</th>\n",
       "      <th>ContractTime</th>\n",
       "      <th>Company</th>\n",
       "      <th>Category</th>\n",
       "      <th>SalaryRaw</th>\n",
       "      <th>SalaryNormalized</th>\n",
       "      <th>SourceName</th>\n",
       "    </tr>\n",
       "  </thead>\n",
       "  <tbody>\n",
       "    <tr>\n",
       "      <td>1588</td>\n",
       "      <td>48271669</td>\n",
       "      <td>NaN</td>\n",
       "      <td>Quality Improvement Manager North West England...</td>\n",
       "      <td>Liverpool, Merseyside</td>\n",
       "      <td>Liverpool</td>\n",
       "      <td>full_time</td>\n",
       "      <td>NaN</td>\n",
       "      <td>NaN</td>\n",
       "      <td>Healthcare &amp; Nursing Jobs</td>\n",
       "      <td>40,000 to 45,000 per year</td>\n",
       "      <td>42500</td>\n",
       "      <td>careworx.co.uk</td>\n",
       "    </tr>\n",
       "  </tbody>\n",
       "</table>\n",
       "</div>"
      ],
      "text/plain": [
       "            Id Title                                    FullDescription  \\\n",
       "1588  48271669   NaN  Quality Improvement Manager North West England...   \n",
       "\n",
       "                LocationRaw LocationNormalized ContractType ContractTime  \\\n",
       "1588  Liverpool, Merseyside          Liverpool    full_time          NaN   \n",
       "\n",
       "     Company                   Category                  SalaryRaw  \\\n",
       "1588     NaN  Healthcare & Nursing Jobs  40,000 to 45,000 per year   \n",
       "\n",
       "      SalaryNormalized      SourceName  \n",
       "1588             42500  careworx.co.uk  "
      ]
     },
     "execution_count": 3,
     "metadata": {},
     "output_type": "execute_result"
    }
   ],
   "source": [
    "Salaries[Salaries['Title'].isna()]"
   ]
  },
  {
   "cell_type": "code",
   "execution_count": 4,
   "metadata": {},
   "outputs": [],
   "source": [
    "# There are very few cases where the title is not provided, therefore these will be simply removed\n",
    "Salaries = Salaries.dropna(subset=['Title'])\n",
    "# could drop rows (or columns) above a certain number of nulls \n",
    "# thresh = Require that many non-NA values.\n",
    "Salaries.dropna(axis=0, how='any', thresh=9, subset=None, inplace=True)"
   ]
  },
  {
   "cell_type": "code",
   "execution_count": 5,
   "metadata": {},
   "outputs": [
    {
     "data": {
      "text/plain": [
       "array([nan, 'full_time', 'part_time'], dtype=object)"
      ]
     },
     "execution_count": 5,
     "metadata": {},
     "output_type": "execute_result"
    }
   ],
   "source": [
    "# There are a lot of null ContractType positions\n",
    "Salaries['ContractType'].unique()"
   ]
  },
  {
   "cell_type": "code",
   "execution_count": 6,
   "metadata": {},
   "outputs": [
    {
     "data": {
      "text/plain": [
       "full_time    0.842083\n",
       "part_time    0.157917\n",
       "Name: ContractType, dtype: float64"
      ]
     },
     "execution_count": 6,
     "metadata": {},
     "output_type": "execute_result"
    }
   ],
   "source": [
    "# Can see that most Contract Types are full-time\n",
    "Salaries['ContractType'].value_counts(normalize=True)"
   ]
  },
  {
   "cell_type": "code",
   "execution_count": 7,
   "metadata": {},
   "outputs": [
    {
     "name": "stdout",
     "output_type": "stream",
     "text": [
      "                                   Alldata  NaN ContractType\n",
      "Accounting & Finance Jobs         0.064559          0.059091\n",
      "Admin Jobs                        0.025501          0.020501\n",
      "Charity & Voluntary Jobs          0.007889          0.006772\n",
      "Consultancy Jobs                  0.012334          0.008813\n",
      "Creative & Design Jobs            0.004000          0.001855\n",
      "Customer Services Jobs            0.026057          0.024861\n",
      "Domestic help & Cleaning Jobs     0.001056          0.001113\n",
      "Energy, Oil & Gas Jobs            0.004111          0.005473\n",
      "Engineering Jobs                  0.095172          0.115863\n",
      "Graduate Jobs                     0.001667          0.000742\n",
      "HR & Recruitment Jobs             0.042558          0.059740\n",
      "Healthcare & Nursing Jobs         0.223901          0.188683\n",
      "Hospitality & Catering Jobs       0.050447          0.064750\n",
      "IT Jobs                           0.149064          0.187662\n",
      "Legal Jobs                        0.009167          0.013451\n",
      "Logistics & Warehouse Jobs        0.021057          0.013729\n",
      "Maintenance Jobs                  0.010723          0.000278\n",
      "Manufacturing Jobs                0.021946          0.015492\n",
      "Other/General Jobs                0.040280          0.028479\n",
      "PR, Advertising & Marketing Jobs  0.021946          0.011688\n",
      "Property Jobs                     0.005334          0.008534\n",
      "Retail Jobs                       0.010112          0.012709\n",
      "Sales Jobs                        0.055836          0.070594\n",
      "Scientific & QA Jobs              0.010889          0.003618\n",
      "Social work Jobs                  0.009334          0.012987\n",
      "Teaching Jobs                     0.041058          0.031633\n",
      "Trade & Construction Jobs         0.023279          0.016790\n",
      "Travel Jobs                       0.010723          0.014100\n"
     ]
    }
   ],
   "source": [
    "# There are several methods to determine how to handle NaN values \n",
    "#- including dropping them, filling with mode or mean, or replacing with an \"Other\" value\n",
    "# start with data exploration - can check if there a pattern in where the NaN values appear or if the rows with NaN are randomly distributed\n",
    "a = Salaries['Category'].value_counts(normalize=True)\n",
    "b = Salaries[Salaries['ContractType'].isnull()]['Category'].value_counts(normalize=True)\n",
    "print (pd.DataFrame({'Alldata': a, 'NaN ContractType':b}))"
   ]
  },
  {
   "cell_type": "code",
   "execution_count": 8,
   "metadata": {},
   "outputs": [
    {
     "data": {
      "text/plain": [
       "permanent    0.845833\n",
       "contract     0.154167\n",
       "Name: ContractTime, dtype: float64"
      ]
     },
     "execution_count": 8,
     "metadata": {},
     "output_type": "execute_result"
    }
   ],
   "source": [
    "# fill contracttype with mode\n",
    "Salaries['ContractType'].fillna(Salaries['ContractType'].mode()[0],inplace=True)\n",
    "#Contract time\n",
    "Salaries['ContractTime'].value_counts(normalize=True)"
   ]
  },
  {
   "cell_type": "code",
   "execution_count": 9,
   "metadata": {},
   "outputs": [
    {
     "name": "stdout",
     "output_type": "stream",
     "text": [
      "                                   Alldata  NaN ContractTime\n",
      "Accounting & Finance Jobs         0.064559          0.044647\n",
      "Admin Jobs                        0.025501          0.037000\n",
      "Charity & Voluntary Jobs          0.007889          0.001350\n",
      "Consultancy Jobs                  0.012334          0.015857\n",
      "Creative & Design Jobs            0.004000          0.002474\n",
      "Customer Services Jobs            0.026057          0.033288\n",
      "Domestic help & Cleaning Jobs     0.001056          0.001462\n",
      "Energy, Oil & Gas Jobs            0.004111          0.003036\n",
      "Engineering Jobs                  0.095172          0.037562\n",
      "Graduate Jobs                     0.001667          0.002474\n",
      "HR & Recruitment Jobs             0.042558          0.036550\n",
      "Healthcare & Nursing Jobs         0.223901          0.419703\n",
      "Hospitality & Catering Jobs       0.050447          0.091430\n",
      "IT Jobs                           0.149064          0.021480\n",
      "Legal Jobs                        0.009167          0.011359\n",
      "Logistics & Warehouse Jobs        0.021057          0.029802\n",
      "Maintenance Jobs                  0.010723          0.019568\n",
      "Manufacturing Jobs                0.021946          0.023054\n",
      "Other/General Jobs                0.040280          0.038574\n",
      "PR, Advertising & Marketing Jobs  0.021946          0.013495\n",
      "Property Jobs                     0.005334          0.004611\n",
      "Retail Jobs                       0.010112          0.003261\n",
      "Sales Jobs                        0.055836          0.038574\n",
      "Scientific & QA Jobs              0.010889          0.007872\n",
      "Social work Jobs                  0.009334          0.006973\n",
      "Teaching Jobs                     0.041058          0.032051\n",
      "Trade & Construction Jobs         0.023279          0.022155\n",
      "Travel Jobs                       0.010723          0.000337\n"
     ]
    }
   ],
   "source": [
    "# Comparing job categories for rows with NaN contract time \n",
    "a = Salaries['Category'].value_counts(normalize=True)\n",
    "b = Salaries[Salaries['ContractTime'].isnull()]['Category'].value_counts(normalize=True)\n",
    "print(pd.DataFrame({'Alldata': a, 'NaN ContractTime':b}))"
   ]
  },
  {
   "cell_type": "markdown",
   "metadata": {},
   "source": [
    "There is a higher proportion of jobs in healthcare, hospitality and catering and 'other' where the contract time is NaN. Although this may require some futher exploration, we will now fill them with a filler 'Unknown' variable."
   ]
  },
  {
   "cell_type": "code",
   "execution_count": 10,
   "metadata": {},
   "outputs": [],
   "source": [
    "Salaries.loc[Salaries['ContractTime'].isnull(), 'ContractTime'] = 'Unknown'"
   ]
  },
  {
   "cell_type": "code",
   "execution_count": 11,
   "metadata": {},
   "outputs": [
    {
     "data": {
      "text/plain": [
       "86     An exciting job opportunity has arisen to work...\n",
       "93     Job Title: Java Developer Location: Yorkshire ...\n",
       "113    Transaction Services Executive ****  **** plus...\n",
       "114    Audit Senior **** Bristol My client, a reputab...\n",
       "115    Audit Assistant Manager Bristol **** **** This...\n",
       "120    Sales Account Executive Basingstoke Salary ***...\n",
       "130    Excellent new job and career opportunity for a...\n",
       "137    Barclays are hiring. Future Leaders Developmen...\n",
       "153    Our client, a global service provider, require...\n",
       "182    Support Worker Job Chepstow We are a leading p...\n",
       "Name: FullDescription, dtype: object"
      ]
     },
     "execution_count": 11,
     "metadata": {},
     "output_type": "execute_result"
    }
   ],
   "source": [
    "# Next, missing Company Names are dealt with \n",
    "Salaries[Salaries['Company'].isnull()]['FullDescription'][0:10] "
   ]
  },
  {
   "cell_type": "markdown",
   "metadata": {},
   "source": [
    "Some data exploration shows that missing companies names are caused by a variety of factors - Some posings may have the company name in the full description, while others are third party recruiters, recruiting for a client. NaNs will be filled with a 'Unknown' value. This value might capture recruitment by a third party. This could be further refined - for example filling with 'Third Party' IF Description contains 'Client'."
   ]
  },
  {
   "cell_type": "code",
   "execution_count": 12,
   "metadata": {},
   "outputs": [],
   "source": [
    "Salaries.loc[Salaries['Company'].isnull(), 'Company'] = 'Unknown'"
   ]
  },
  {
   "cell_type": "markdown",
   "metadata": {},
   "source": [
    "### Cleaning Text Data"
   ]
  },
  {
   "cell_type": "markdown",
   "metadata": {},
   "source": [
    "The dataset contains a significant amount of uncleaned and unstructured text in the 'Title' and 'Full Description' columns. A simple approach would be to clean up the text, remove stop words, and do one-hot encoding using countvectorizer."
   ]
  },
  {
   "cell_type": "code",
   "execution_count": 13,
   "metadata": {},
   "outputs": [
    {
     "name": "stdout",
     "output_type": "stream",
     "text": [
      "['ability', 'able', 'agency', 'applicants', 'application', 'applications', 'apply', 'appropriate', 'area', 'areas', 'assist', 'available', 'background', 'based', 'basis', 'benefits', 'best', 'business', 'candidate', 'candidates', 'care', 'career', 'chef', 'client', 'clients']\n"
     ]
    }
   ],
   "source": [
    "vectorizer = CountVectorizer(analyzer = \"word\", \n",
    "                             tokenizer = None, \n",
    "                             preprocessor = None, \n",
    "                             stop_words = 'english', \n",
    "                             max_features = 200,\n",
    "                             ngram_range = (1,2)) \n",
    "Words = vectorizer.fit_transform(Salaries['FullDescription'])\n",
    "print(vectorizer.get_feature_names()[0:25])"
   ]
  },
  {
   "cell_type": "markdown",
   "metadata": {},
   "source": [
    "The most common words seem to be relevant to salary information, although more stopwords could possibly be added to list. A better approach may be to set a high # of max_features and run a linear regression for feature selection."
   ]
  },
  {
   "cell_type": "markdown",
   "metadata": {},
   "source": [
    "Several of the most frequent words such 'car,'linux','worker','digital' look like they belong to a sequence of words, so the vectorizer could benefit from using n - grams."
   ]
  },
  {
   "cell_type": "code",
   "execution_count": 14,
   "metadata": {},
   "outputs": [
    {
     "name": "stdout",
     "output_type": "stream",
     "text": [
      "['account director', 'account executive', 'account manager', 'accounts assistant', 'assistant job', 'assistant jobs', 'assistant manager', 'award winning', 'branch manager', 'building services']\n"
     ]
    }
   ],
   "source": [
    "title_vectorizer = CountVectorizer(analyzer = \"word\", tokenizer = None, \n",
    "                                                preprocessor = None, \n",
    "                                                stop_words = 'english', \n",
    "                                                max_features = 200,\n",
    "                                                ngram_range = (2,3))\n",
    "\n",
    "Title_Words = title_vectorizer.fit_transform(Salaries['Title'])\n",
    "print(title_vectorizer.get_feature_names()[0:10])"
   ]
  },
  {
   "cell_type": "markdown",
   "metadata": {},
   "source": [
    "The features from n-grams seem more appropriate."
   ]
  },
  {
   "cell_type": "code",
   "execution_count": 15,
   "metadata": {},
   "outputs": [
    {
     "data": {
      "text/plain": [
       "1198"
      ]
     },
     "execution_count": 15,
     "metadata": {},
     "output_type": "execute_result"
    }
   ],
   "source": [
    "Salaries.LocationNormalized.nunique()"
   ]
  },
  {
   "cell_type": "markdown",
   "metadata": {},
   "source": [
    "Because there are a lot of unique company names, it may be excessive to get dummies for each one, and there may not be enough examples of each company name to be significant in model training. An option would be to get dummy variables for the top 100 most popular companies or companies above a threshold count."
   ]
  },
  {
   "cell_type": "markdown",
   "metadata": {},
   "source": [
    "There is also a significant amount of unique Company locations (2000+). To allow the models to run in reasonable time and eliminate locations that only appear once, we will only consider locations that appear above a certain frequency. Everything else we can replace with \"Other\"."
   ]
  },
  {
   "cell_type": "code",
   "execution_count": 16,
   "metadata": {},
   "outputs": [
    {
     "data": {
      "text/plain": [
       "26"
      ]
     },
     "execution_count": 16,
     "metadata": {},
     "output_type": "execute_result"
    }
   ],
   "source": [
    "location_counts = Salaries.LocationNormalized.value_counts()\n",
    "value_mask = Salaries.LocationNormalized.isin(location_counts.index[location_counts < 100])\n",
    "Salaries.loc[value_mask,'LocationNormalized'] = \"Other\"\n",
    "Salaries.LocationNormalized.nunique()"
   ]
  },
  {
   "cell_type": "code",
   "execution_count": 17,
   "metadata": {},
   "outputs": [],
   "source": [
    "# Since the other features are categorical and not ordinal they can be encoded using dummy variables.\n",
    "Salaries = pd.get_dummies(data=Salaries, columns=['LocationNormalized', 'ContractType','Category','ContractTime'])"
   ]
  },
  {
   "cell_type": "markdown",
   "metadata": {},
   "source": [
    "### Combining Features"
   ]
  },
  {
   "cell_type": "code",
   "execution_count": 18,
   "metadata": {},
   "outputs": [],
   "source": [
    "# Combine all feautures - Option One, Combine Into Matrix\n",
    "features = Salaries.drop(['FullDescription',\n",
    "                         'Title','Id','LocationRaw','Company',\n",
    "                         'SalaryRaw','SourceName'], axis=1).values\n",
    "\n",
    "Title_Features = Title_Words.toarray()\n",
    "Description_Features = Words.toarray()\n",
    "\n",
    "all_features = np.hstack([features, Title_Features, Description_Features])"
   ]
  },
  {
   "cell_type": "code",
   "execution_count": 19,
   "metadata": {},
   "outputs": [],
   "source": [
    "#Combine all features - Option Two, Combine Into Sparse Dataframe\n",
    "\n",
    "features = Salaries.drop(['FullDescription',\n",
    "                         'Title','Id','LocationRaw','Company',\n",
    "                         'SalaryRaw','SourceName'], axis=1)\n",
    "title =  pd.DataFrame(data = Title_Words.toarray(), columns = title_vectorizer.get_feature_names())\n",
    "description = pd.DataFrame(data = Words.toarray(), columns = vectorizer.get_feature_names())\n",
    "\n",
    "features.reset_index(drop=True, inplace=True)\n",
    "title.reset_index(drop=True, inplace=True)\n",
    "description.reset_index(drop=True, inplace=True)\n",
    "\n",
    "Salaries_Feature = pd.concat([features,title,description], axis = 1)"
   ]
  },
  {
   "cell_type": "code",
   "execution_count": 20,
   "metadata": {},
   "outputs": [],
   "source": [
    "Salaries_Y = Salaries_Feature.pop(\"SalaryNormalized\")\n",
    "Salaries_X, Salaries_X_Test,Salaries_Y,Salaries_Y_Test = train_test_split(Salaries_Feature,Salaries_Y,test_size=0.33, random_state=13)"
   ]
  },
  {
   "cell_type": "markdown",
   "metadata": {},
   "source": [
    "## Exploratory Data Analysis"
   ]
  },
  {
   "cell_type": "code",
   "execution_count": 21,
   "metadata": {},
   "outputs": [],
   "source": [
    "%matplotlib inline\n",
    "Salaries_Plot = pd.read_csv(\"Salary_Train_sample.csv\", encoding = \"ISO-8859-1\")"
   ]
  },
  {
   "cell_type": "code",
   "execution_count": 22,
   "metadata": {},
   "outputs": [
    {
     "data": {
      "text/plain": [
       "<matplotlib.axes._subplots.AxesSubplot at 0x184f8812e08>"
      ]
     },
     "execution_count": 22,
     "metadata": {},
     "output_type": "execute_result"
    },
    {
     "data": {
      "image/png": "[encoded data removed]",
      "text/plain": [
       "<Figure size 432x288 with 1 Axes>"
      ]
     },
     "metadata": {
      "needs_background": "light"
     },
     "output_type": "display_data"
    }
   ],
   "source": [
    "Salaries_Plot[\"SalaryNormalized\"].plot(kind='hist',title=\"Salary Histogram\")"
   ]
  },
  {
   "cell_type": "markdown",
   "metadata": {},
   "source": [
    "As can be seen from the histogram above, SalaryNormalized is a skewed distribution showing a positive skewness."
   ]
  },
  {
   "cell_type": "markdown",
   "metadata": {},
   "source": [
    "## Model Implementation"
   ]
  },
  {
   "cell_type": "markdown",
   "metadata": {},
   "source": [
    "In this section, a function is defined, called run_kfold, which uses a 10-fold cross-validation method to train the model, and the mean and variance of the results."
   ]
  },
  {
   "cell_type": "code",
   "execution_count": 23,
   "metadata": {},
   "outputs": [],
   "source": [
    "#set up cross validation\n",
    "def run_kfold(model):\n",
    "    \n",
    "    X = Salaries_X\n",
    "    Y = Salaries_Y\n",
    "    \n",
    "    kf = KFold(n_splits=10) #n_splits previously n_folds\n",
    "    \n",
    "    outcomes = []\n",
    "    fold = 0\n",
    "    \n",
    "    for train_index, test_index in kf.split(X):\n",
    "        fold += 1\n",
    "        X_train, X_test = X.values[train_index], X.values[test_index]\n",
    "        Y_train, Y_test = Y.values[train_index], Y.values[test_index]\n",
    "        \n",
    "        model.fit(X_train, Y_train)\n",
    "        predictions = model.predict(X_test)\n",
    "        \n",
    "        accuracy = r2_score(Y_test, predictions) # can try mean absolute error instead\n",
    "        outcomes.append(accuracy)\n",
    "        print(\"Fold {0} mean_absolute_error: {1}\".format(fold, accuracy))   \n",
    "        \n",
    "    mean_outcome = np.mean(outcomes)\n",
    "    std_outcome=np.std(outcomes)\n",
    "    print(\"Mean r2: {0}\".format(mean_outcome)) \n",
    "    print(\"Standard Deviation: {0}\".format(std_outcome)) "
   ]
  },
  {
   "cell_type": "markdown",
   "metadata": {},
   "source": [
    "### A Linear Regression"
   ]
  },
  {
   "cell_type": "markdown",
   "metadata": {},
   "source": [
    "First use the simplest linear regression to predict the model, and use the run_kfold function, 10 fold cross training. Output loss error of training model and loss error of test model"
   ]
  },
  {
   "cell_type": "code",
   "execution_count": 24,
   "metadata": {},
   "outputs": [
    {
     "name": "stdout",
     "output_type": "stream",
     "text": [
      "Fold 1 mean_absolute_error: 0.4666557203550533\n",
      "Fold 2 mean_absolute_error: 0.4370846154016761\n",
      "Fold 3 mean_absolute_error: 0.45952390324999315\n",
      "Fold 4 mean_absolute_error: -9.546474206352912e+16\n",
      "Fold 5 mean_absolute_error: 0.47929391701759594\n",
      "Fold 6 mean_absolute_error: 0.4329074646691934\n",
      "Fold 7 mean_absolute_error: -5.9624664075164934e+19\n",
      "Fold 8 mean_absolute_error: -3.327939745983391e+17\n",
      "Fold 9 mean_absolute_error: -5.100936730827856e+19\n",
      "Fold 10 mean_absolute_error: 0.49296281114655827\n",
      "Mean r2: -1.1106229010010536e+19\n",
      "Standard Deviation: 2.2189395567220056e+19\n",
      "------------------\n",
      " Test Score: -1.19524157609927e+16\n"
     ]
    }
   ],
   "source": [
    "model_lr = linear_model.LinearRegression()\n",
    "run_kfold (model_lr)\n",
    "\n",
    "predictions = model_lr.predict(Salaries_X_Test)\n",
    "Test_Score = r2_score(Salaries_Y_Test, predictions)\n",
    "\n",
    "print (\"------------------\\n Test Score: \" + str(Test_Score))"
   ]
  },
  {
   "cell_type": "markdown",
   "metadata": {},
   "source": [
    "### Neural Network"
   ]
  },
  {
   "cell_type": "markdown",
   "metadata": {},
   "source": [
    "The following uses a multi-layer perceptron to predict the result. First, define a multi-layer perceptron. The number of hidden layers is 10, 8, and 4, and the number of iterations is 1000."
   ]
  },
  {
   "cell_type": "code",
   "execution_count": 25,
   "metadata": {},
   "outputs": [
    {
     "data": {
      "text/plain": [
       "MLPRegressor(activation='relu', alpha=1e-05, batch_size='auto', beta_1=0.9,\n",
       "             beta_2=0.999, early_stopping=False, epsilon=1e-08,\n",
       "             hidden_layer_sizes=(10, 8, 4), learning_rate='constant',\n",
       "             learning_rate_init=0.001, max_iter=1000, momentum=0.9,\n",
       "             n_iter_no_change=10, nesterovs_momentum=True, power_t=0.5,\n",
       "             random_state=1, shuffle=True, solver='lbfgs', tol=0.0001,\n",
       "             validation_fraction=0.1, verbose=False, warm_start=False)"
      ]
     },
     "execution_count": 25,
     "metadata": {},
     "output_type": "execute_result"
    }
   ],
   "source": [
    "clf = MLPRegressor(solver='lbfgs', alpha=1e-5, hidden_layer_sizes=(10,8,4), random_state=1, max_iter=1000)\n",
    "clf.fit(Salaries_X, Salaries_Y)"
   ]
  },
  {
   "cell_type": "code",
   "execution_count": 26,
   "metadata": {},
   "outputs": [
    {
     "data": {
      "text/plain": [
       "0.6453620187383418"
      ]
     },
     "execution_count": 26,
     "metadata": {},
     "output_type": "execute_result"
    }
   ],
   "source": [
    "clf.score(Salaries_X, Salaries_Y)"
   ]
  },
  {
   "cell_type": "code",
   "execution_count": 27,
   "metadata": {},
   "outputs": [
    {
     "data": {
      "text/plain": [
       "0.45375735651311544"
      ]
     },
     "execution_count": 27,
     "metadata": {},
     "output_type": "execute_result"
    }
   ],
   "source": [
    "clf.score(Salaries_X_Test, Salaries_Y_Test) #overfitting.."
   ]
  },
  {
   "cell_type": "markdown",
   "metadata": {},
   "source": [
    "As shown above, the training model score is 0.46365568893171605, and the test model score is 0.46365568893171605. Therefore, the multilayer perceptron is over-fitting, so over-fitting needs to be solved, and over-fitting is mitigated by using 10-fold cross-validation."
   ]
  },
  {
   "cell_type": "code",
   "execution_count": 28,
   "metadata": {},
   "outputs": [
    {
     "name": "stdout",
     "output_type": "stream",
     "text": [
      "Fold 1 mean_absolute_error: 0.4142821706484384\n",
      "Fold 2 mean_absolute_error: 0.3831965252592294\n",
      "Fold 3 mean_absolute_error: 0.29507781112568443\n",
      "Fold 4 mean_absolute_error: 0.4527030417065805\n",
      "Fold 5 mean_absolute_error: 0.47339367679008293\n",
      "Fold 6 mean_absolute_error: 0.44063573452426863\n",
      "Fold 7 mean_absolute_error: 0.4069788872089267\n",
      "Fold 8 mean_absolute_error: -0.33074453978129537\n",
      "Fold 9 mean_absolute_error: 0.37374138983601135\n",
      "Fold 10 mean_absolute_error: -3.0228560812720557\n",
      "Mean r2: -0.01135913839541285\n",
      "Standard Deviation: 1.0285823572169472\n"
     ]
    }
   ],
   "source": [
    "run_kfold(clf)"
   ]
  },
  {
   "cell_type": "markdown",
   "metadata": {},
   "source": [
    "The average result of 10-fold cross-training is 0.31461086352081835, which is very close to the test model. Therefore, the model of 10-fold cross-training is relatively better and it is not easy to over-fitting."
   ]
  },
  {
   "cell_type": "markdown",
   "metadata": {},
   "source": [
    "## Feature Selection"
   ]
  },
  {
   "cell_type": "markdown",
   "metadata": {},
   "source": [
    "### Recursive Feature Elimination"
   ]
  },
  {
   "cell_type": "markdown",
   "metadata": {},
   "source": [
    "> scikit-learn:   \n",
    "> Given an external estimator that assigns weights to features (e.g., the coefficients of a linear model), the goal of recursive feature elimination (RFE) is to select features by recursively considering smaller and smaller sets of features. First, the estimator is trained on the initial set of features and the importance of each feature is obtained either through a coef_ attribute or through a feature_importances_ attribute. Then, the least important features are pruned from current set of features. That procedure is recursively repeated on the pruned set until the desired number of features to select is eventually reached.   \n",
    "> https://scikit-learn.org/stable/modules/generated/sklearn.feature_selection.RFE.html"
   ]
  },
  {
   "cell_type": "code",
   "execution_count": 29,
   "metadata": {},
   "outputs": [],
   "source": [
    "rfe = RFE(model_lr)\n",
    "fit = rfe.fit(Salaries_X[0:10000], Salaries_Y[0:10000]) #Sampling because of slow run time"
   ]
  },
  {
   "cell_type": "code",
   "execution_count": 30,
   "metadata": {},
   "outputs": [
    {
     "data": {
      "text/plain": [
       "[(1, 'LocationNormalized_Belfast'),\n",
       " (1, 'LocationNormalized_Berkshire'),\n",
       " (1, 'LocationNormalized_Birmingham'),\n",
       " (1, 'LocationNormalized_Bradford'),\n",
       " (1, 'LocationNormalized_Bristol'),\n",
       " (1, 'LocationNormalized_Cambridge'),\n",
       " (1, 'LocationNormalized_Central London'),\n",
       " (1, 'LocationNormalized_Edinburgh'),\n",
       " (1, 'LocationNormalized_Glasgow'),\n",
       " (1, 'LocationNormalized_Hampshire')]"
      ]
     },
     "execution_count": 30,
     "metadata": {},
     "output_type": "execute_result"
    }
   ],
   "source": [
    "sorted(list(zip(fit.ranking_,Salaries_X))[0:10])"
   ]
  },
  {
   "cell_type": "markdown",
   "metadata": {},
   "source": [
    "###  Lasso Regularization"
   ]
  },
  {
   "cell_type": "markdown",
   "metadata": {},
   "source": [
    "> Linear Model trained with L1 prior as regularizer (aka the Lasso)   \n",
    "> #https://scikit-learn.org/stable/modules/generated/sklearn.linear_model.Lasso.html"
   ]
  },
  {
   "cell_type": "code",
   "execution_count": 31,
   "metadata": {},
   "outputs": [
    {
     "data": {
      "text/plain": [
       "0.48176951117892985"
      ]
     },
     "execution_count": 31,
     "metadata": {},
     "output_type": "execute_result"
    }
   ],
   "source": [
    "reg = linear_model.Lasso(alpha = 0.5,max_iter=10000)\n",
    "reg.fit(Salaries_X, Salaries_Y)\n",
    "reg.score(Salaries_X, Salaries_Y)"
   ]
  },
  {
   "cell_type": "markdown",
   "metadata": {},
   "source": [
    "### Grid Search"
   ]
  },
  {
   "cell_type": "markdown",
   "metadata": {},
   "source": [
    "Any machine learning model comes with many parameters. Different scenes correspond to different optimal parameters. It is a waste of time to manually try various parameters. Therefore, in this part, we use grid search to find the optimal parameters. The basic model is linear. Regression, the adjustment parameter is alpha."
   ]
  },
  {
   "cell_type": "code",
   "execution_count": 32,
   "metadata": {},
   "outputs": [],
   "source": [
    "from sklearn.metrics import make_scorer, r2_score, confusion_matrix\n",
    "\n",
    "reg_gridsearch = linear_model.Lasso(random_state=42)\n",
    "#Parameters to test\n",
    "parameters = {'alpha':[0.5,1,3], # Constant that multiplies the L1 term. Defaults to 1.0.\n",
    "             'normalize':[True,False]} #\n",
    "\n",
    "# Compare parameters by score of model \n",
    "acc_scorer_lm = make_scorer(r2_score)\n",
    "\n",
    "# Run the grid search\n",
    "grid_obj_lm = GridSearchCV(reg_gridsearch, parameters, scoring=acc_scorer_lm)\n",
    "grid_obj_lm = grid_obj_lm.fit(Salaries_X, Salaries_Y)\n",
    "\n",
    "reg_gridsearch = grid_obj_lm.best_estimator_  #Select best parameter combination"
   ]
  },
  {
   "cell_type": "code",
   "execution_count": 33,
   "metadata": {},
   "outputs": [
    {
     "data": {
      "text/plain": [
       "Lasso(alpha=0.5, copy_X=True, fit_intercept=True, max_iter=1000, normalize=True,\n",
       "      positive=False, precompute=False, random_state=42, selection='cyclic',\n",
       "      tol=0.0001, warm_start=False)"
      ]
     },
     "execution_count": 33,
     "metadata": {},
     "output_type": "execute_result"
    }
   ],
   "source": [
    "reg_gridsearch # print out the optimal params so grid search does not need to be rerun"
   ]
  },
  {
   "cell_type": "code",
   "execution_count": 34,
   "metadata": {},
   "outputs": [
    {
     "data": {
      "text/plain": [
       "0.47688361888749586"
      ]
     },
     "execution_count": 34,
     "metadata": {},
     "output_type": "execute_result"
    }
   ],
   "source": [
    "reg_gridsearch.fit(Salaries_X, Salaries_Y)\n",
    "reg_gridsearch.score(Salaries_X, Salaries_Y)"
   ]
  },
  {
   "cell_type": "code",
   "execution_count": 35,
   "metadata": {},
   "outputs": [
    {
     "name": "stdout",
     "output_type": "stream",
     "text": [
      "alpha (Constant that multiplies the L1 term): 0.5\n",
      "normalize: True\n"
     ]
    },
    {
     "data": {
      "text/plain": [
       "8575.15442806187"
      ]
     },
     "execution_count": 35,
     "metadata": {},
     "output_type": "execute_result"
    }
   ],
   "source": [
    "print('alpha (Constant that multiplies the L1 term):',grid_obj_lm.best_estimator_.alpha) \n",
    "print('normalize:',grid_obj_lm.best_estimator_.normalize)\n",
    "predictions_lasso = reg_gridsearch.predict(Salaries_X_Test)\n",
    "mean_absolute_error(Salaries_Y_Test,predictions_lasso)"
   ]
  },
  {
   "cell_type": "code",
   "execution_count": 36,
   "metadata": {},
   "outputs": [
    {
     "name": "stdout",
     "output_type": "stream",
     "text": [
      "Fold 1 mean_absolute_error: 0.4672859706461081\n",
      "Fold 2 mean_absolute_error: 0.43785436175113224\n",
      "Fold 3 mean_absolute_error: 0.4597764439297509\n",
      "Fold 4 mean_absolute_error: 0.4438231065515843\n",
      "Fold 5 mean_absolute_error: 0.4801695373393484\n",
      "Fold 6 mean_absolute_error: 0.4334180465740146\n",
      "Fold 7 mean_absolute_error: 0.41195086609464227\n",
      "Fold 8 mean_absolute_error: 0.3800840047375893\n",
      "Fold 9 mean_absolute_error: 0.43393730189283564\n",
      "Fold 10 mean_absolute_error: 0.49285806676228194\n",
      "Mean r2: 0.4441157706279288\n",
      "Standard Deviation: 0.0313843622357679\n"
     ]
    }
   ],
   "source": [
    "run_kfold (reg)"
   ]
  },
  {
   "cell_type": "code",
   "execution_count": 37,
   "metadata": {},
   "outputs": [
    {
     "data": {
      "text/plain": [
       "[(36515.946785267566, 'nurse practitioner'),\n",
       " (19970.360599076626, 'intensive care'),\n",
       " (15440.703984317071, 'Category_Energy, Oil & Gas Jobs'),\n",
       " (11482.071441354838, 'care assistant job'),\n",
       " (10023.221643001467, 'LocationNormalized_The City'),\n",
       " (9584.683939248784, 'social worker'),\n",
       " (9265.75483908982, 'Category_Healthcare & Nursing Jobs'),\n",
       " (9082.94047673813, 'Category_IT Jobs'),\n",
       " (8962.418195570393, 'account director'),\n",
       " (8823.936080731088, 'systems engineer')]"
      ]
     },
     "execution_count": 37,
     "metadata": {},
     "output_type": "execute_result"
    }
   ],
   "source": [
    "# can see more consistent results with regularization than regular linear regression\n",
    "sorted(list(zip(reg.coef_, Salaries_X)),reverse=True)[0:10]"
   ]
  },
  {
   "cell_type": "code",
   "execution_count": 38,
   "metadata": {},
   "outputs": [
    {
     "data": {
      "text/plain": [
       "[(2427908845066226.0, 'LocationNormalized_Bradford'),\n",
       " (2427908845066626.5, 'LocationNormalized_Belfast'),\n",
       " (2427908845069580.5, 'LocationNormalized_Cambridge'),\n",
       " (2427908845069661.5, 'LocationNormalized_Birmingham'),\n",
       " (2427908845071154.5, 'LocationNormalized_Bristol'),\n",
       " (2427908845072127.5, 'LocationNormalized_Hampshire'),\n",
       " (2427908845072428.0, 'LocationNormalized_Edinburgh'),\n",
       " (2427908845073439.5, 'LocationNormalized_Berkshire'),\n",
       " (2427908845073891.0, 'LocationNormalized_Glasgow'),\n",
       " (2427908845074646.0, 'LocationNormalized_Central London')]"
      ]
     },
     "execution_count": 38,
     "metadata": {},
     "output_type": "execute_result"
    }
   ],
   "source": [
    "#Can see that regularized coefficeints are more reasonable \n",
    "rfe_lasso = RFE(reg)\n",
    "fit_lasso = rfe_lasso.fit(Salaries_X[0:10000], Salaries_Y[0:10000]) #Sampling because of slow run time\n",
    "sorted(list(zip(model_lr.coef_, Salaries_X))[0:10])"
   ]
  },
  {
   "cell_type": "markdown",
   "metadata": {},
   "source": [
    "### PCA"
   ]
  },
  {
   "cell_type": "code",
   "execution_count": 39,
   "metadata": {},
   "outputs": [
    {
     "name": "stdout",
     "output_type": "stream",
     "text": [
      "Train r2 Score\n",
      "0.333333100890685\n",
      "Test r2 Score\n",
      "0.33761209717835083\n"
     ]
    }
   ],
   "source": [
    "# does not show any improvements - higher score with more components\n",
    "from sklearn.decomposition import PCA\n",
    "pca = PCA(n_components=150)\n",
    "pca.fit(Salaries_X)\n",
    "PCA_X = pca.transform(Salaries_X)\n",
    "PCA_X_Test = pca.transform(Salaries_X_Test)\n",
    "model_lr_pca = linear_model.LinearRegression()\n",
    "model_lr_pca.fit(PCA_X,Salaries_Y)\n",
    "\n",
    "predictions_pca_train = model_lr_pca.predict(PCA_X)\n",
    "predictions_pca_test = model_lr_pca.predict(PCA_X_Test)\n",
    "\n",
    "print (\"Train r2 Score\")\n",
    "print (r2_score(Salaries_Y, predictions_pca_train))  \n",
    "print (\"Test r2 Score\")\n",
    "print (r2_score(Salaries_Y_Test,predictions_pca_test))"
   ]
  },
  {
   "cell_type": "markdown",
   "metadata": {},
   "source": [
    "As can be seen from the above, after the PCA dimension reduction, the results of the verification set are very close to the results of the test set, and the effect is not bad."
   ]
  },
  {
   "cell_type": "code",
   "execution_count": null,
   "metadata": {},
   "outputs": [],
   "source": []
  }
 ],
 "metadata": {
  "kernelspec": {
   "display_name": "Python 3",
   "language": "python",
   "name": "python3"
  },
  "language_info": {
   "codemirror_mode": {
    "name": "ipython",
    "version": 3
   },
   "file_extension": ".py",
   "mimetype": "text/x-python",
   "name": "python",
   "nbconvert_exporter": "python",
   "pygments_lexer": "ipython3",
   "version": "3.7.4"
  },
  "toc": {
   "base_numbering": 1,
   "nav_menu": {},
   "number_sections": true,
   "sideBar": true,
   "skip_h1_title": false,
   "title_cell": "Table of Contents",
   "title_sidebar": "Contents",
   "toc_cell": false,
   "toc_position": {},
   "toc_section_display": true,
   "toc_window_display": true
  },
  "varInspector": {
   "cols": {
    "lenName": 16,
    "lenType": 16,
    "lenVar": 40
   },
   "kernels_config": {
    "python": {
     "delete_cmd_postfix": "",
     "delete_cmd_prefix": "del ",
     "library": "var_list.py",
     "varRefreshCmd": "print(var_dic_list())"
    },
    "r": {
     "delete_cmd_postfix": ") ",
     "delete_cmd_prefix": "rm(",
     "library": "var_list.r",
     "varRefreshCmd": "cat(var_dic_list()) "
    }
   },
   "types_to_exclude": [
    "module",
    "function",
    "builtin_function_or_method",
    "instance",
    "_Feature"
   ],
   "window_display": false
  }
 },
 "nbformat": 4,
 "nbformat_minor": 2
}
